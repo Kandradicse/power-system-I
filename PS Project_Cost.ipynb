{
 "cells": [
  {
   "cell_type": "markdown",
   "id": "55fa0ef6",
   "metadata": {},
   "source": [
    "# Input Data"
   ]
  },
  {
   "cell_type": "code",
   "execution_count": 7,
   "id": "207a870a",
   "metadata": {},
   "outputs": [],
   "source": [
    "import pandas as pd\n",
    "file_path = \"data.xlsx\"\n",
    "table1_data = pd.read_excel(file_path, sheet_name='Table1')\n",
    "table2_data = pd.read_excel(file_path, sheet_name='Table2')\n",
    "table3_data = pd.read_excel(file_path, sheet_name='Table3')\n",
    "table4_data = pd.read_excel(file_path, sheet_name='Table4')\n",
    "table5_data = pd.read_excel(file_path, sheet_name='Table5')"
   ]
  },
  {
   "cell_type": "markdown",
   "id": "dfab1eaa",
   "metadata": {},
   "source": [
    "# Extracting Function"
   ]
  },
  {
   "cell_type": "markdown",
   "id": "f5d42f1e",
   "metadata": {},
   "source": [
    "## Interactive Function"
   ]
  },
  {
   "cell_type": "code",
   "execution_count": 8,
   "id": "8e1d29c3",
   "metadata": {},
   "outputs": [],
   "source": [
    "def get_user_input(prompt_message):\n",
    "    \"\"\"\n",
    "    Asks the user to input based on a given prompt and returns the input.\n",
    "\n",
    "    Parameters:\n",
    "    prompt_message (str): The message to display to the user.\n",
    "\n",
    "    Returns:\n",
    "    str: The user's input.\n",
    "    \"\"\"\n",
    "    # Prompt the user for input\n",
    "    user_input = input(prompt_message)\n",
    "\n",
    "    return user_input\n",
    "\n",
    "\n",
    "\n"
   ]
  },
  {
   "cell_type": "markdown",
   "id": "f903c5b3",
   "metadata": {},
   "source": [
    "## Extract from Table2"
   ]
  },
  {
   "cell_type": "code",
   "execution_count": 9,
   "id": "09a3c943",
   "metadata": {},
   "outputs": [],
   "source": [
    "import pandas as pd\n",
    "\n",
    "def extract_value_based_on_input2(file_path, sheet_name, user_input):\n",
    "    # Load the specified worksheet from the Excel file\n",
    "    data = pd.read_excel(file_path, sheet_name=sheet_name)\n",
    "\n",
    "    # Mapping user input to the corresponding cell\n",
    "    cell_map = {\n",
    "        'A': 0,  # Corresponds to cell G2\n",
    "        'B': 1,  # Corresponds to cell G3\n",
    "        'C': 2   # Corresponds to cell G4\n",
    "    }\n",
    "\n",
    "    # Extracting the value from the specified cell\n",
    "    row_index = cell_map.get(user_input)\n",
    "    if row_index is not None:\n",
    "        value = data.iloc[row_index, 6]  # Column index 5 corresponds to column 'F'\n",
    "        return value\n",
    "    else:\n",
    "        return \"Invalid input\"\n",
    "\n",
    "# Example usage\n",
    "# file_path = 'path_to_your_excel_file.xlsx'\n",
    "# sheet_name = 'YourWorksheetName'\n",
    "# user_input = 'A'  # Can be 'A', 'B', or 'C'\n",
    "# extracted_value = extract_value_based_on_input(file_path, sheet_name, user_input)\n",
    "# print(extracted_value)\n",
    "\n"
   ]
  },
  {
   "cell_type": "markdown",
   "id": "99a367ae",
   "metadata": {},
   "source": [
    "## Extract from Table3"
   ]
  },
  {
   "cell_type": "code",
   "execution_count": 10,
   "id": "65c4f9f4",
   "metadata": {},
   "outputs": [],
   "source": [
    "import pandas as pd\n",
    "\n",
    "def extract_value_based_on_input3(file_path, sheet_name, user_input):\n",
    "    # Load the specified worksheet from the Excel file\n",
    "    data = pd.read_excel(file_path, sheet_name=sheet_name)\n",
    "\n",
    "    # Mapping user input to the corresponding cell\n",
    "    cell_map = {\n",
    "        '1': 1,  # Corresponds to cell G2\n",
    "        '2': 2,  # Corresponds to cell G3\n",
    "        '3': 3,  # Corresponds to cell G4\n",
    "        '4': 4,  # Corresponds to cell G4\n",
    "        '5': 5   # Corresponds to cell G4\n",
    "    }\n",
    "\n",
    "    # Extracting the value from the specified cell\n",
    "    row_index = cell_map.get(user_input)\n",
    "    if row_index is not None:\n",
    "        value = data.iloc[row_index, 7]  # Column index 5 corresponds to column 'F'\n",
    "        return value\n",
    "    else:\n",
    "        return \"Invalid input\"\n",
    "\n",
    "# Example usage\n",
    "# file_path = 'path_to_your_excel_file.xlsx'\n",
    "# sheet_name = 'YourWorksheetName'\n",
    "# user_input = 'A'  # Can be 'A', 'B', or 'C'\n",
    "# extracted_value = extract_value_based_on_input(file_path, sheet_name, user_input)\n",
    "# print(extracted_value)\n",
    "\n"
   ]
  },
  {
   "cell_type": "markdown",
   "id": "2323426f",
   "metadata": {},
   "source": [
    "## Extract from Table4"
   ]
  },
  {
   "cell_type": "code",
   "execution_count": 11,
   "id": "196e701e",
   "metadata": {},
   "outputs": [],
   "source": [
    "import pandas as pd\n",
    "\n",
    "def extract_value_based_on_input4(file_path, sheet_name, user_input):\n",
    "    # Load the specified worksheet from the Excel file\n",
    "    data = pd.read_excel(file_path, sheet_name=sheet_name)\n",
    "\n",
    "    # Mapping user input to the corresponding cell\n",
    "    cell_map = {\n",
    "        '1': 1,  # Corresponds to cell G2\n",
    "        '2': 2,  # Corresponds to cell G3\n",
    "        '3': 3,  # Corresponds to cell G4\n",
    "        '4': 4,  # Corresponds to cell G4\n",
    "    \n",
    "    }\n",
    "\n",
    "    # Extracting the value from the specified cell\n",
    "    row_index = cell_map.get(user_input)\n",
    "    if row_index is not None:\n",
    "        value = data.iloc[row_index, 5]  # Column index 5 corresponds to column 'F'\n",
    "        return value\n",
    "    else:\n",
    "        return \"Invalid input\"\n",
    "\n",
    "# Example usage\n",
    "# file_path = 'path_to_your_excel_file.xlsx'\n",
    "# sheet_name = 'YourWorksheetName'\n",
    "# user_input = 'A'  # Can be 'A', 'B', or 'C'\n",
    "# extracted_value = extract_value_based_on_input(file_path, sheet_name, user_input)\n",
    "# print(extracted_value)\n",
    "\n"
   ]
  },
  {
   "cell_type": "markdown",
   "id": "4295ac2c",
   "metadata": {},
   "source": [
    "## Extract from Table5"
   ]
  },
  {
   "cell_type": "code",
   "execution_count": 12,
   "id": "e1959051",
   "metadata": {},
   "outputs": [],
   "source": [
    "import pandas as pd\n",
    "\n",
    "def extract_value_based_on_input5(file_path, sheet_name, user_input):\n",
    "    # Load the specified worksheet from the Excel file\n",
    "    data = pd.read_excel(file_path, sheet_name=sheet_name)\n",
    "\n",
    "    # Mapping user input to the corresponding cell\n",
    "    cell_map = {\n",
    "        '4': 0,  # Corresponds to cell G2\n",
    "        '6': 1,  # Corresponds to cell G3\n",
    "        '8': 2,  # Corresponds to cell G4\n",
    "  \n",
    "    \n",
    "    }\n",
    "\n",
    "    # Extracting the value from the specified cell\n",
    "    row_index = cell_map.get(user_input)\n",
    "    if row_index is not None:\n",
    "        value = data.iloc[row_index, 1]  # Column index 5 corresponds to column 'F'\n",
    "        return value\n",
    "    else:\n",
    "        return \"Invalid input\"\n",
    "\n",
    "# Example usage\n",
    "# file_path = 'path_to_your_excel_file.xlsx'\n",
    "# sheet_name = 'YourWorksheetName'\n",
    "# user_input = 'A'  # Can be 'A', 'B', or 'C'\n",
    "# extracted_value = extract_value_based_on_input(file_path, sheet_name, user_input)\n",
    "# print(extracted_value)\n",
    "\n"
   ]
  },
  {
   "cell_type": "markdown",
   "id": "a0808804",
   "metadata": {},
   "source": [
    "# Input"
   ]
  },
  {
   "cell_type": "code",
   "execution_count": 15,
   "id": "726fc8fe",
   "metadata": {},
   "outputs": [
    {
     "name": "stdin",
     "output_type": "stream",
     "text": [
      "Which bus is used? 8\n",
      "Tower type? C\n",
      "Conductor type? 3\n",
      "How many shunt capacitor and inductor? 0\n",
      "Bundling option? 4\n"
     ]
    },
    {
     "name": "stdout",
     "output_type": "stream",
     "text": [
      "distant: 300\n",
      "tower: 76000\n",
      "conductor: 9000.0\n",
      "bundle: 45000.0\n"
     ]
    }
   ],
   "source": [
    "user_input = get_user_input(\"Which bus is used?\")\n",
    "distant = extract_value_based_on_input5(\"data.xlsx\", \"Table5\", user_input)\n",
    "user_input = get_user_input(\"Tower type?\")\n",
    "tower = extract_value_based_on_input2(\"data.xlsx\", \"Table2\", user_input)\n",
    "user_input = get_user_input(\"Conductor type?\")\n",
    "conductor = extract_value_based_on_input3(\"data.xlsx\", \"Table3\", user_input)\n",
    "user_input = get_user_input(\"How many shunt capacitor and inductor?\")\n",
    "shunt = int(user_input)\n",
    "user_input_bundle = get_user_input(\"Bundling option?\")\n",
    "bundle = extract_value_based_on_input4(\"data.xlsx\", \"Table4\", user_input_bundle)\n",
    "\n",
    "print(f\"distant: {distant}\")\n",
    "print(f\"tower: {tower}\")\n",
    "print(f\"conductor: {conductor}\")\n",
    "print(f\"bundle: {bundle}\")"
   ]
  },
  {
   "cell_type": "markdown",
   "id": "7905d725",
   "metadata": {},
   "source": [
    "# Cost calculation"
   ]
  },
  {
   "cell_type": "code",
   "execution_count": 16,
   "id": "76c7990c",
   "metadata": {},
   "outputs": [
    {
     "name": "stdout",
     "output_type": "stream",
     "text": [
      "cost: 47100000.0\n"
     ]
    }
   ],
   "source": [
    "cost = shunt*1000000 + distant*(tower + conductor*int(user_input_bundle) + bundle)\n",
    "print(f\"cost: {cost}\")"
   ]
  },
  {
   "cell_type": "code",
   "execution_count": null,
   "id": "5e769865",
   "metadata": {},
   "outputs": [],
   "source": []
  }
 ],
 "metadata": {
  "kernelspec": {
   "display_name": "Python 3 (ipykernel)",
   "language": "python",
   "name": "python3"
  },
  "language_info": {
   "codemirror_mode": {
    "name": "ipython",
    "version": 3
   },
   "file_extension": ".py",
   "mimetype": "text/x-python",
   "name": "python",
   "nbconvert_exporter": "python",
   "pygments_lexer": "ipython3",
   "version": "3.11.6"
  }
 },
 "nbformat": 4,
 "nbformat_minor": 5
}
