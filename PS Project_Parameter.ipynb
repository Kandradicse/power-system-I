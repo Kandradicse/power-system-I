{
 "cells": [
  {
   "cell_type": "markdown",
   "id": "59f3f392",
   "metadata": {},
   "source": [
    "# Long Line Model\n"
   ]
  },
  {
   "cell_type": "code",
   "execution_count": 36,
   "id": "fbc762f9",
   "metadata": {},
   "outputs": [],
   "source": [
    "import sympy as sp\n",
    "\n",
    "def LL_parameter(gamma,l,Zc,V_S,I_S):\n",
    "    # Define the input variables as symbols\n",
    "    V_S, I_S, l, gamma, Zc = sp.symbols('V_S I_S l gamma Zc')\n",
    "    \n",
    "    \n",
    "    \n",
    "    # Define the ABCD parameters\n",
    "    A = sp.cosh(gamma * l)\n",
    "    B = Zc * sp.sinh(gamma * l)\n",
    "    C = (1 / Zc) * sp.sinh(gamma * l)\n",
    "    D = sp.cosh(gamma * l)\n",
    "\n",
    "\n",
    "    # Define the new input matrix containing V_S and I_S\n",
    "    input_matrix = sp.Matrix([[V_S], [I_S]])\n",
    "    \n",
    "    # Define the ABCD matrix\n",
    "    ABCD_matrix = sp.Matrix([[A, B], [C, D]])\n",
    "    \n",
    "    # Calculate the inverse of the ABCD matrix\n",
    "    ABCD_inverse = ABCD_matrix.inv()\n",
    "    \n",
    "    # Use the inverse matrix to calculate the output matrix (V_R, I_R)\n",
    "    output_matrix = ABCD_inverse * input_matrix\n",
    "    \n",
    "    # Extract the output V_R and I_R\n",
    "    V_R, I_R = output_matrix\n",
    "\n",
    "    # Calculating the numerical values of V_R and I_R\n",
    "    V_R_num = V_R.evalf()\n",
    "    I_R_num = I_R.evalf()\n",
    "\n",
    "\n",
    "\n",
    "\n",
    "    return V_R_num, I_R_num\n",
    "\n",
    "    "
   ]
  },
  {
   "cell_type": "code",
   "execution_count": null,
   "id": "7d0b439b-76ed-462a-86df-b5ce67824938",
   "metadata": {},
   "outputs": [],
   "source": []
  },
  {
   "cell_type": "code",
   "execution_count": null,
   "id": "0055529b-da91-4452-a9a2-710ee27e7af3",
   "metadata": {},
   "outputs": [],
   "source": []
  },
  {
   "cell_type": "code",
   "execution_count": null,
   "id": "de76433d-3cbd-4129-a634-f39b52ad7741",
   "metadata": {},
   "outputs": [],
   "source": []
  },
  {
   "cell_type": "code",
   "execution_count": 37,
   "id": "0b42791f-9e16-4a95-8ffc-04754074940b",
   "metadata": {},
   "outputs": [],
   "source": [
    "# Correcting the function to include variable substitution before evaluating the numerical values\n",
    "\n",
    "def LL_parameter_corrected(gamma_val, l_val, Zc_val, V_S_val, I_S_val):\n",
    "    # Define the input variables as symbols\n",
    "    V_S_sym, I_S_sym, l_sym, gamma_sym, Zc_sym = sp.symbols('V_S I_S l gamma Zc')\n",
    "\n",
    "    # Define the ABCD parameters\n",
    "    A = sp.cosh(gamma_sym * l_sym)\n",
    "    B = Zc_sym * sp.sinh(gamma_sym * l_sym)\n",
    "    C = (1 / Zc_sym) * sp.sinh(gamma_sym * l_sym)\n",
    "    D = sp.cosh(gamma_sym * l_sym)\n",
    "\n",
    "    # Define the new input matrix containing V_S and I_S\n",
    "    input_matrix = sp.Matrix([[V_S_sym], [I_S_sym]])\n",
    "\n",
    "    # Define the ABCD matrix\n",
    "    ABCD_matrix = sp.Matrix([[A, B], [C, D]])\n",
    "\n",
    "    # Calculate the inverse of the ABCD matrix\n",
    "    ABCD_inverse = ABCD_matrix.inv()\n",
    "\n",
    "    # Use the inverse matrix to calculate the output matrix (V_R, I_R)\n",
    "    output_matrix = ABCD_inverse * input_matrix\n",
    "\n",
    "    # Extract the output V_R and I_R\n",
    "    V_R, I_R = output_matrix\n",
    "\n",
    "    # Substitute the given values and evaluate numerically\n",
    "    substitutions = {gamma_sym: gamma_val, l_sym: l_val, Zc_sym: Zc_val, V_S_sym: V_S_val, I_S_sym: I_S_val}\n",
    "    V_R_num = V_R.subs(substitutions).evalf()\n",
    "    I_R_num = I_R.subs(substitutions).evalf()\n",
    "\n",
    "    return V_R_num, I_R_num\n",
    "\n"
   ]
  },
  {
   "cell_type": "code",
   "execution_count": null,
   "id": "d7d7aa6e-5764-479d-bc5d-3b0cb5bb81e2",
   "metadata": {},
   "outputs": [],
   "source": []
  },
  {
   "cell_type": "code",
   "execution_count": null,
   "id": "ef561cb7-55c3-476e-87d8-07b8a03fc621",
   "metadata": {},
   "outputs": [],
   "source": []
  },
  {
   "cell_type": "code",
   "execution_count": 38,
   "id": "43de5606-253e-4730-bd9c-05344ca521c0",
   "metadata": {},
   "outputs": [],
   "source": [
    "gamma,l,Zc,V_S,I_S = 1,2,3,4,5"
   ]
  },
  {
   "cell_type": "markdown",
   "id": "15f5b10d-5e29-4123-beca-8686a681d393",
   "metadata": {},
   "source": [
    "## Bus (Length) Selection //Unit: km"
   ]
  },
  {
   "cell_type": "code",
   "execution_count": 39,
   "id": "c4e76101-5532-4b9e-855c-67597a91e889",
   "metadata": {},
   "outputs": [],
   "source": [
    "import pandas as pd\n",
    "\n",
    "def l_select(user_input):\n",
    "    # Load the specified worksheet from the Excel file\n",
    "    data = pd.read_excel(\"data.xlsx\", \"Table5\")\n",
    "\n",
    "    # Mapping user input to the corresponding cell\n",
    "    cell_map = {\n",
    "        '4': 0,  # Corresponds to cell G2\n",
    "        '6': 1,  # Corresponds to cell G3\n",
    "        '8': 2,  # Corresponds to cell G4\n",
    "  \n",
    "    \n",
    "    }\n",
    "\n",
    "    # Extracting the value from the specified cell\n",
    "    row_index = cell_map.get(user_input)\n",
    "    if row_index is not None:\n",
    "        value = data.iloc[row_index, 1]  # Column index 5 corresponds to column 'F'\n",
    "        return value\n",
    "    else:\n",
    "        return \"Invalid input\"\n",
    "\n",
    "# Example usage\n",
    "# file_path = 'path_to_your_excel_file.xlsx'\n",
    "# sheet_name = 'YourWorksheetName'\n",
    "# user_input = 'A'  # Can be 'A', 'B', or 'C'\n",
    "# extracted_value = extract_value_based_on_input(file_path, sheet_name, user_input)\n",
    "# print(extracted_value)\n",
    "\n"
   ]
  },
  {
   "cell_type": "markdown",
   "id": "4ca45681-d6dc-412b-8018-b9e9cfeccdd9",
   "metadata": {},
   "source": [
    "## z and y calculatiion"
   ]
  },
  {
   "cell_type": "code",
   "execution_count": 40,
   "id": "de5adf88-2c93-4325-814d-d8790b121270",
   "metadata": {},
   "outputs": [],
   "source": [
    "import cmath, math\n",
    "\n",
    "def z_calculate(r, L):\n",
    "    # Convert r, L, g, C, and omega into complex numbers as necessary\n",
    "    omega = 2 * math.pi * 60\n",
    "    z = complex(r, omega * L * 0.001)\n",
    "    return z\n",
    "\n",
    "def y_calculate(g, C):\n",
    "    # Convert r, L, g, C, and omega into complex numbers as necessary\n",
    "    g = 0\n",
    "    omega = 2 * math.pi * 60\n",
    "    y = complex(g, omega * C * 0.000001)\n",
    "    return y\n",
    "# Example usage:\n",
    "# r = 1.0 # resistance in ohms\n",
    "# L = 0.001 # inductance in henrys\n",
    "# g = 0.0001 # conductance in siemens\n",
    "# C = 0.000001 # capacitance in farads\n",
    "# omega = 2 * cmath.pi * 60 # angular frequency in radians/second for 60Hz\n",
    "# complex_result = calculate_complex_expression(r, L, g, C, omega)\n",
    "# print(complex_result)\n"
   ]
  },
  {
   "cell_type": "markdown",
   "id": "73438bf7-6b73-4771-bedc-e179faa8c3c7",
   "metadata": {},
   "source": [
    "### resistance selection //Unit: Ω"
   ]
  },
  {
   "cell_type": "code",
   "execution_count": 41,
   "id": "c46a968e-a7b0-4f7a-bd8d-b22e2c581931",
   "metadata": {},
   "outputs": [],
   "source": [
    "import pandas as pd\n",
    "\n",
    "def r_select(user_input):\n",
    "    # Load the specified worksheet from the Excel file\n",
    "    data = pd.read_excel(\"data.xlsx\", \"Table3\")\n",
    "\n",
    "    # Mapping user input to the corresponding cell\n",
    "    cell_map = {\n",
    "        '1': 1,  # Corresponds to cell G2\n",
    "        '2': 2,  # Corresponds to cell G3\n",
    "        '3': 3,  # Corresponds to cell G4\n",
    "        '4': 4,  # Corresponds to cell G4\n",
    "        '5': 5   # Corresponds to cell G4\n",
    "    }\n",
    "\n",
    "    # Extracting the value from the specified cell\n",
    "    row_index = cell_map.get(user_input)\n",
    "    if row_index is not None:\n",
    "        value = data.iloc[row_index, 8]  # Column index 5 corresponds to column 'F'\n",
    "        return value\n",
    "    else:\n",
    "        return \"Invalid input\"\n",
    "\n",
    "# Example usage\n",
    "# file_path = 'path_to_your_excel_file.xlsx'\n",
    "# sheet_name = 'YourWorksheetName'\n",
    "# user_input = 'A'  # Can be 'A', 'B', or 'C'\n",
    "# extracted_value = extract_value_based_on_input(file_path, sheet_name, user_input)\n",
    "# print(extracted_value)"
   ]
  },
  {
   "cell_type": "markdown",
   "id": "9a28c784-973f-4b15-aa04-bde8adc464fa",
   "metadata": {},
   "source": [
    "### L calculation //Unit: mH/km"
   ]
  },
  {
   "cell_type": "code",
   "execution_count": 42,
   "id": "58b2d48e-3a8c-4f00-961b-40c78c67a86a",
   "metadata": {},
   "outputs": [],
   "source": [
    "import math\n",
    "\n",
    "def L_calculate(GMD,r_b):\n",
    "    L = 0.2 * math.log(GMD / r_b)\n",
    "    return L"
   ]
  },
  {
   "cell_type": "markdown",
   "id": "fe0b9f66-e7fd-4c64-b9f9-680ddcbed9d8",
   "metadata": {},
   "source": [
    "#### r_b calculation (for L)"
   ]
  },
  {
   "cell_type": "code",
   "execution_count": 43,
   "id": "4d775674-546e-4e98-87a5-1d5727cf84de",
   "metadata": {},
   "outputs": [],
   "source": [
    "import pandas as pd\n",
    "\n",
    "def d_select(user_input):\n",
    "    # Load the specified worksheet from the Excel file\n",
    "    data = pd.read_excel(\"data.xlsx\", \"Table4\")\n",
    "\n",
    "    # Mapping user input to the corresponding cell\n",
    "    cell_map = {\n",
    "        '1': 1,  # Corresponds to cell G2\n",
    "        '2': 2,  # Corresponds to cell G3\n",
    "        '3': 3,  # Corresponds to cell G4\n",
    "        '4': 4,  # Corresponds to cell G4\n",
    "    \n",
    "    }\n",
    "\n",
    "    # Extracting the value from the specified cell\n",
    "    row_index = cell_map.get(user_input)\n",
    "    if row_index is not None:\n",
    "        value = data.iloc[row_index, 4]  # Column index 5 corresponds to column 'F'\n",
    "        return value*0.01\n",
    "    else:\n",
    "        return \"Invalid input\"\n",
    "\n",
    "# Example usage\n",
    "# file_path = 'path_to_your_excel_file.xlsx'\n",
    "# sheet_name = 'YourWorksheetName'\n",
    "# user_input = 'A'  # Can be 'A', 'B', or 'C'\n",
    "# extracted_value = extract_value_based_on_input(file_path, sheet_name, user_input)\n",
    "# print(extracted_value)\n",
    "\n"
   ]
  },
  {
   "cell_type": "code",
   "execution_count": 44,
   "id": "298d52f3-4ee0-4631-817b-de61a4aa0a74",
   "metadata": {},
   "outputs": [],
   "source": [
    "import pandas as pd\n",
    "\n",
    "def radius_conductor(user_input):\n",
    "    # Load the specified worksheet from the Excel file\n",
    "    data = pd.read_excel(\"data.xlsx\", \"Table3\")\n",
    "\n",
    "    # Mapping user input to the corresponding cell\n",
    "    cell_map = {\n",
    "        '1': 1,  # Corresponds to cell G2\n",
    "        '2': 2,  # Corresponds to cell G3\n",
    "        '3': 3,  # Corresponds to cell G4\n",
    "        '4': 4,  # Corresponds to cell G4\n",
    "        '5': 5   # Corresponds to cell G4\n",
    "    }\n",
    "\n",
    "    # Extracting the value from the specified cell\n",
    "    row_index = cell_map.get(user_input)\n",
    "    if row_index is not None:\n",
    "        value = data.iloc[row_index, 4]  # Column index 5 corresponds to column 'F'\n",
    "        r = 0.5*value*0.001\n",
    "        return r\n",
    "    else:\n",
    "        return \"Invalid input\"\n",
    "\n",
    "# Example usage\n",
    "# file_path = 'path_to_your_excel_file.xlsx'\n",
    "# sheet_name = 'YourWorksheetName'\n",
    "# user_input = 'A'  # Can be 'A', 'B', or 'C'\n",
    "# extracted_value = extract_value_based_on_input(file_path, sheet_name, user_input)\n",
    "# print(extracted_value)"
   ]
  },
  {
   "cell_type": "code",
   "execution_count": 45,
   "id": "88ece568-2b75-4630-a673-fc2cd2889a83",
   "metadata": {},
   "outputs": [],
   "source": [
    "import pandas as pd\n",
    "\n",
    "def r_b_calculate(r,d):\n",
    "        r2 = 0.78*r\n",
    "        if d == 0.25:\n",
    "            value = (r2*1.414*(d**(3))) ** (1/4)\n",
    "        elif d == 0.21:\n",
    "            value = (r2*(d**(2))) ** (1/3)\n",
    "        elif d == 0.22:\n",
    "            value = (r2*d) ** (1/2)\n",
    "        elif d == 0:\n",
    "            value = r2\n",
    "        return value\n",
    "\n",
    "# Example usage\n",
    "# file_path = 'path_to_your_excel_file.xlsx'\n",
    "# sheet_name = 'YourWorksheetName'\n",
    "# user_input = 'A'  # Can be 'A', 'B', or 'C'\n",
    "# extracted_value = extract_value_based_on_input(file_path, sheet_name, user_input)\n",
    "# print(extracted_value)"
   ]
  },
  {
   "cell_type": "markdown",
   "id": "35db3014-7899-464a-9de9-5ed43bce7776",
   "metadata": {},
   "source": [
    "#### GMD selection"
   ]
  },
  {
   "cell_type": "code",
   "execution_count": 46,
   "id": "ac82696b-82e1-46d7-8174-8e995d7bb871",
   "metadata": {},
   "outputs": [],
   "source": [
    "import pandas as pd\n",
    "\n",
    "def GMD_select(user_input):\n",
    "    # Load the specified worksheet from the Excel file\n",
    "    data = pd.read_excel(\"data.xlsx\", \"Table2\")\n",
    "\n",
    "    # Mapping user input to the corresponding cell\n",
    "    cell_map = {\n",
    "        'A': 0,  # Corresponds to cell G2\n",
    "        'B': 1,  # Corresponds to cell G3\n",
    "        'C': 2   # Corresponds to cell G4\n",
    "    }\n",
    "\n",
    "    # Extracting the value from the specified cell\n",
    "    row_index = cell_map.get(user_input)\n",
    "    if row_index is not None:\n",
    "        value = data.iloc[row_index, 5]  # Column index 5 corresponds to column 'F'\n",
    "        return value\n",
    "    else:\n",
    "        return \"Invalid input\"\n",
    "\n",
    "# Example usage\n",
    "# file_path = 'path_to_your_excel_file.xlsx'\n",
    "# sheet_name = 'YourWorksheetName'\n",
    "# user_input = 'A'  # Can be 'A', 'B', or 'C'\n",
    "# extracted_value = extract_value_based_on_input(file_path, sheet_name, user_input)\n",
    "# print(extracted_value)\n"
   ]
  },
  {
   "cell_type": "markdown",
   "id": "427bc0b3",
   "metadata": {},
   "source": [
    "### C calculation //Unit: μF/m"
   ]
  },
  {
   "cell_type": "code",
   "execution_count": 47,
   "id": "960e9215",
   "metadata": {},
   "outputs": [],
   "source": [
    "from math import log\n",
    "\n",
    "def C_calculate(GMD, rb):\n",
    "    if GMD <= 0 or rb <= 0:\n",
    "        raise ValueError(\"GMD 和 rb 必须为正数\")\n",
    "    C = 0.0556 / log(GMD / rb)  # The log here is actually ln\n",
    "    return C\n"
   ]
  },
  {
   "cell_type": "markdown",
   "id": "f3e43bfc-b6cf-4f56-ba2c-ac04c702a7be",
   "metadata": {},
   "source": [
    "#### r_b2 calculation (for C)"
   ]
  },
  {
   "cell_type": "code",
   "execution_count": 48,
   "id": "a7fcc93f",
   "metadata": {},
   "outputs": [],
   "source": [
    "import pandas as pd\n",
    "\n",
    "def r_b2_calculate(r,d):\n",
    "        if d == 0.25:\n",
    "            value = (r*1.414*(d**(3))) ** (1/4)\n",
    "        elif d == 0.21:\n",
    "            value = (r*(d**(2))) ** (1/3)\n",
    "        elif d == 0.22:\n",
    "            value = (r*d) ** (1/2)\n",
    "        elif d == 0:\n",
    "            value = r\n",
    "        return value\n",
    "\n",
    "# Example usage\n",
    "# file_path = 'path_to_your_excel_file.xlsx'\n",
    "# sheet_name = 'YourWorksheetName'\n",
    "# user_input = 'A'  # Can be 'A', 'B', or 'C'\n",
    "# extracted_value = extract_value_based_on_input(file_path, sheet_name, user_input)\n",
    "# print(extracted_value)"
   ]
  },
  {
   "cell_type": "markdown",
   "id": "07f5af62",
   "metadata": {},
   "source": [
    "## γ calculation"
   ]
  },
  {
   "cell_type": "code",
   "execution_count": 49,
   "id": "17708f11",
   "metadata": {},
   "outputs": [],
   "source": [
    "import cmath\n",
    "\n",
    "def gamma(z,y):\n",
    "    product = z*y\n",
    "    result = cmath.sqrt(product)\n",
    "    return result"
   ]
  },
  {
   "cell_type": "markdown",
   "id": "ae108698-00af-48a3-8429-16d371e5015a",
   "metadata": {},
   "source": [
    "## Zc calculation"
   ]
  },
  {
   "cell_type": "code",
   "execution_count": 50,
   "id": "a67731a5-7829-4291-8a1a-e7cba6683fd4",
   "metadata": {},
   "outputs": [],
   "source": [
    "import cmath\n",
    "\n",
    "def Z_c(z,y):\n",
    "    product = z/y\n",
    "    result = cmath.sqrt(product)\n",
    "    return result"
   ]
  },
  {
   "cell_type": "markdown",
   "id": "681b9101-6294-4c21-98b1-5f5c8240494c",
   "metadata": {},
   "source": [
    "# Parameter Calculation"
   ]
  },
  {
   "cell_type": "code",
   "execution_count": 52,
   "id": "19986cf3-18e8-4d6f-b0d0-7d6cee72b7b3",
   "metadata": {},
   "outputs": [],
   "source": [
    "import pandas as pd\n",
    "import math\n",
    "\n",
    "# Initialize an empty DataFrame as the container for the final data\n",
    "final_df = pd.DataFrame()\n",
    "\n",
    "\n",
    "Vs = 230000\n",
    "Is = 652.1739\n",
    "\n",
    "# Suppose we have a loop to generate or fetch data\n",
    "for i in range(3):  # for Table 2\n",
    "    char = chr(65 + i)  # get the letter\n",
    "    GMD = GMD_select(char)\n",
    "    for j in range(5):  # for Table 3\n",
    "        j2 = str(j + 1)\n",
    "        radius = radius_conductor(j2)\n",
    "        r = r_select(j2)\n",
    "        for k in range(4):  #for Table 4\n",
    "            k2 = str(k + 1)\n",
    "            d = d_select(k2)\n",
    "            for m in range(4, 9, 2):  #for Table 5\n",
    "                m2 = str(m)\n",
    "                l = l_select(m2)\n",
    "                rb_L = r_b_calculate(radius,d)\n",
    "                L = L_calculate(GMD,rb_L)\n",
    "                rb_C = r_b2_calculate(radius,d)                    \n",
    "                C = C_calculate(GMD,rb_C)\n",
    "                z = z_calculate(r,L)\n",
    "                y = y_calculate(r,C)\n",
    "                gamma_value = gamma(z,y)\n",
    "                Zc = Z_c(z,y)\n",
    "                #Vr,Ir = LL_parameter(gamma_value,l,Zc,Vs,Is)\n",
    "                Vr,Ir =LL_parameter_corrected(gamma_value,l,Zc,Vs,Is)\n",
    "                Vr = Vr.evalf()\n",
    "                Ir = Ir.evalf()\n",
    "                X = 2 * math.pi * 60 * L *0.001\n",
    "                B = 2 * math.pi * 60 * C * 0.000001\n",
    "                # Generate a new row of data for each iteration\n",
    "                new_data = pd.DataFrame({'V_R': [Vr], 'I_R': [Ir], 'X': [X], 'B': [B]})  # Generates letters A, B, C, ...\n",
    "\n",
    "                  \n",
    "                # Use concat to merge data\n",
    "                final_df = pd.concat([final_df, new_data], ignore_index=True)            \n",
    "    \n",
    "\n",
    "# After the loop ends, save the merged DataFrame to an Excel file\n",
    "final_df.to_excel('parameter.xlsx', index=False) \n",
    "\n"
   ]
  },
  {
   "cell_type": "code",
   "execution_count": 53,
   "id": "a75b36b7-faf1-43cc-bf74-684a4c0a9fb1",
   "metadata": {},
   "outputs": [
    {
     "data": {
      "text/html": [
       "<div>\n",
       "<style scoped>\n",
       "    .dataframe tbody tr th:only-of-type {\n",
       "        vertical-align: middle;\n",
       "    }\n",
       "\n",
       "    .dataframe tbody tr th {\n",
       "        vertical-align: top;\n",
       "    }\n",
       "\n",
       "    .dataframe thead th {\n",
       "        text-align: right;\n",
       "    }\n",
       "</style>\n",
       "<table border=\"1\" class=\"dataframe\">\n",
       "  <thead>\n",
       "    <tr style=\"text-align: right;\">\n",
       "      <th></th>\n",
       "      <th>V_R</th>\n",
       "      <th>I_R</th>\n",
       "      <th>X</th>\n",
       "      <th>B</th>\n",
       "    </tr>\n",
       "  </thead>\n",
       "  <tbody>\n",
       "    <tr>\n",
       "      <th>0</th>\n",
       "      <td>200702.294747979 - 22132.1757649014*I</td>\n",
       "      <td>649.266426305619 - 55.567946985303*I</td>\n",
       "      <td>0.478423</td>\n",
       "      <td>0.000003</td>\n",
       "    </tr>\n",
       "    <tr>\n",
       "      <th>1</th>\n",
       "      <td>169794.454889099 - 41815.7034456874*I</td>\n",
       "      <td>640.971010183347 - 103.362938616704*I</td>\n",
       "      <td>0.478423</td>\n",
       "      <td>0.000003</td>\n",
       "    </tr>\n",
       "    <tr>\n",
       "      <th>2</th>\n",
       "      <td>105157.52032797 - 74523.7687989872*I</td>\n",
       "      <td>610.61421053926 - 174.364165453055*I</td>\n",
       "      <td>0.478423</td>\n",
       "      <td>0.000003</td>\n",
       "    </tr>\n",
       "    <tr>\n",
       "      <th>3</th>\n",
       "      <td>200711.090322602 - 13936.2822093829*I</td>\n",
       "      <td>649.421684477571 - 81.5965766416095*I</td>\n",
       "      <td>0.322424</td>\n",
       "      <td>0.000005</td>\n",
       "    </tr>\n",
       "    <tr>\n",
       "      <th>4</th>\n",
       "      <td>169810.1928762 - 24449.7729194415*I</td>\n",
       "      <td>642.052987628915 - 151.783563935723*I</td>\n",
       "      <td>0.322424</td>\n",
       "      <td>0.000005</td>\n",
       "    </tr>\n",
       "    <tr>\n",
       "      <th>...</th>\n",
       "      <td>...</td>\n",
       "      <td>...</td>\n",
       "      <td>...</td>\n",
       "      <td>...</td>\n",
       "    </tr>\n",
       "    <tr>\n",
       "      <th>175</th>\n",
       "      <td>221063.237764243 - 25931.0287926675*I</td>\n",
       "      <td>640.564120952993 - 200.038319033891*I</td>\n",
       "      <td>0.274321</td>\n",
       "      <td>0.000006</td>\n",
       "    </tr>\n",
       "    <tr>\n",
       "      <th>176</th>\n",
       "      <td>204274.703889307 - 49484.392775914*I</td>\n",
       "      <td>607.014469648288 - 388.655568988092*I</td>\n",
       "      <td>0.274321</td>\n",
       "      <td>0.000006</td>\n",
       "    </tr>\n",
       "    <tr>\n",
       "      <th>177</th>\n",
       "      <td>226553.964487909 - 11513.0238377307*I</td>\n",
       "      <td>649.255436614321 - 115.02408163093*I</td>\n",
       "      <td>0.240095</td>\n",
       "      <td>0.000007</td>\n",
       "    </tr>\n",
       "    <tr>\n",
       "      <th>178</th>\n",
       "      <td>221076.740750382 - 22500.6020946661*I</td>\n",
       "      <td>640.668504602956 - 227.799150551059*I</td>\n",
       "      <td>0.240095</td>\n",
       "      <td>0.000007</td>\n",
       "    </tr>\n",
       "    <tr>\n",
       "      <th>179</th>\n",
       "      <td>204325.547810403 - 42551.1717618214*I</td>\n",
       "      <td>607.681670977536 - 442.618600238705*I</td>\n",
       "      <td>0.240095</td>\n",
       "      <td>0.000007</td>\n",
       "    </tr>\n",
       "  </tbody>\n",
       "</table>\n",
       "<p>180 rows × 4 columns</p>\n",
       "</div>"
      ],
      "text/plain": [
       "                                       V_R  \\\n",
       "0    200702.294747979 - 22132.1757649014*I   \n",
       "1    169794.454889099 - 41815.7034456874*I   \n",
       "2     105157.52032797 - 74523.7687989872*I   \n",
       "3    200711.090322602 - 13936.2822093829*I   \n",
       "4      169810.1928762 - 24449.7729194415*I   \n",
       "..                                     ...   \n",
       "175  221063.237764243 - 25931.0287926675*I   \n",
       "176   204274.703889307 - 49484.392775914*I   \n",
       "177  226553.964487909 - 11513.0238377307*I   \n",
       "178  221076.740750382 - 22500.6020946661*I   \n",
       "179  204325.547810403 - 42551.1717618214*I   \n",
       "\n",
       "                                       I_R         X         B  \n",
       "0     649.266426305619 - 55.567946985303*I  0.478423  0.000003  \n",
       "1    640.971010183347 - 103.362938616704*I  0.478423  0.000003  \n",
       "2     610.61421053926 - 174.364165453055*I  0.478423  0.000003  \n",
       "3    649.421684477571 - 81.5965766416095*I  0.322424  0.000005  \n",
       "4    642.052987628915 - 151.783563935723*I  0.322424  0.000005  \n",
       "..                                     ...       ...       ...  \n",
       "175  640.564120952993 - 200.038319033891*I  0.274321  0.000006  \n",
       "176  607.014469648288 - 388.655568988092*I  0.274321  0.000006  \n",
       "177   649.255436614321 - 115.02408163093*I  0.240095  0.000007  \n",
       "178  640.668504602956 - 227.799150551059*I  0.240095  0.000007  \n",
       "179  607.681670977536 - 442.618600238705*I  0.240095  0.000007  \n",
       "\n",
       "[180 rows x 4 columns]"
      ]
     },
     "execution_count": 53,
     "metadata": {},
     "output_type": "execute_result"
    }
   ],
   "source": [
    "final_df\n",
    "                \n",
    "                "
   ]
  },
  {
   "cell_type": "code",
   "execution_count": 34,
   "id": "bd0cc5df-83ad-4bc7-8e2b-40c7595a6645",
   "metadata": {},
   "outputs": [
    {
     "data": {
      "text/html": [
       "<div>\n",
       "<style scoped>\n",
       "    .dataframe tbody tr th:only-of-type {\n",
       "        vertical-align: middle;\n",
       "    }\n",
       "\n",
       "    .dataframe tbody tr th {\n",
       "        vertical-align: top;\n",
       "    }\n",
       "\n",
       "    .dataframe thead th {\n",
       "        text-align: right;\n",
       "    }\n",
       "</style>\n",
       "<table border=\"1\" class=\"dataframe\">\n",
       "  <thead>\n",
       "    <tr style=\"text-align: right;\">\n",
       "      <th></th>\n",
       "      <th>V_R</th>\n",
       "      <th>I_R</th>\n",
       "      <th>X</th>\n",
       "      <th>B</th>\n",
       "    </tr>\n",
       "  </thead>\n",
       "  <tbody>\n",
       "    <tr>\n",
       "      <th>0</th>\n",
       "      <td>204325.547810403 - 42551.1717618214*I</td>\n",
       "      <td>607.681670977536 - 442.618600238705*I</td>\n",
       "      <td>240.095186</td>\n",
       "      <td>6.713342</td>\n",
       "    </tr>\n",
       "  </tbody>\n",
       "</table>\n",
       "</div>"
      ],
      "text/plain": [
       "                                     V_R  \\\n",
       "0  204325.547810403 - 42551.1717618214*I   \n",
       "\n",
       "                                     I_R           X         B  \n",
       "0  607.681670977536 - 442.618600238705*I  240.095186  6.713342  "
      ]
     },
     "execution_count": 34,
     "metadata": {},
     "output_type": "execute_result"
    }
   ],
   "source": [
    "new_data"
   ]
  },
  {
   "cell_type": "code",
   "execution_count": 35,
   "id": "72b9a833-70ea-4263-8caa-0e7e378661af",
   "metadata": {},
   "outputs": [
    {
     "data": {
      "text/plain": [
       "(0.0493+0.2400951862520062j)"
      ]
     },
     "execution_count": 35,
     "metadata": {},
     "output_type": "execute_result"
    }
   ],
   "source": [
    "z"
   ]
  },
  {
   "cell_type": "code",
   "execution_count": 25,
   "id": "c29b8e6d-9913-4822-9c42-02dbbb7c00b6",
   "metadata": {},
   "outputs": [
    {
     "data": {
      "text/plain": [
       "4.3225216398999775e-06j"
      ]
     },
     "execution_count": 25,
     "metadata": {},
     "output_type": "execute_result"
    }
   ],
   "source": [
    "y"
   ]
  },
  {
   "cell_type": "code",
   "execution_count": 26,
   "id": "2068f398-5be3-44cd-b48a-4cd8845224e4",
   "metadata": {},
   "outputs": [
    {
     "data": {
      "text/latex": [
       "$\\displaystyle 204440.360297961 - 68600.7764764016 i$"
      ],
      "text/plain": [
       "204440.360297961 - 68600.7764764016*I"
      ]
     },
     "execution_count": 26,
     "metadata": {},
     "output_type": "execute_result"
    }
   ],
   "source": [
    "Vr"
   ]
  },
  {
   "cell_type": "code",
   "execution_count": 27,
   "id": "08bb8234-8946-47b1-bcf2-15adca66217b",
   "metadata": {},
   "outputs": [
    {
     "data": {
      "text/plain": [
       "((8.40331868014616e-05+0.0012679533227184618j),\n",
       " 300,\n",
       " (293.3364892877209-19.440778740301724j),\n",
       " 230000,\n",
       " 652.1739)"
      ]
     },
     "execution_count": 27,
     "metadata": {},
     "output_type": "execute_result"
    }
   ],
   "source": [
    "gamma_value,l,Zc,Vs,Is"
   ]
  },
  {
   "cell_type": "code",
   "execution_count": 28,
   "id": "fab69b12-fe9f-4a0f-9fe6-211e9b449832",
   "metadata": {},
   "outputs": [
    {
     "data": {
      "text/plain": [
       "(204440.360297961 - 68600.7764764016*I, 606.689562683977 - 285.038569020319*I)"
      ]
     },
     "execution_count": 28,
     "metadata": {},
     "output_type": "execute_result"
    }
   ],
   "source": [
    "Vr,Ir"
   ]
  },
  {
   "cell_type": "code",
   "execution_count": 29,
   "id": "14b1674a-2c78-493b-9de5-c6544482b6f4",
   "metadata": {},
   "outputs": [],
   "source": [
    "Vr,Ir = LL_parameter(gamma_value,l,Zc,Vs,Is)\n"
   ]
  },
  {
   "cell_type": "code",
   "execution_count": null,
   "id": "2eb4f671-60a1-4ab9-af5e-fc9b1f413663",
   "metadata": {},
   "outputs": [],
   "source": []
  },
  {
   "cell_type": "code",
   "execution_count": null,
   "id": "1bf13cc8-524d-44e8-ab60-81700115882e",
   "metadata": {},
   "outputs": [],
   "source": []
  },
  {
   "cell_type": "code",
   "execution_count": null,
   "id": "c471d675-92d9-4b7e-8e30-89f82a8f52ea",
   "metadata": {},
   "outputs": [],
   "source": []
  },
  {
   "cell_type": "code",
   "execution_count": null,
   "id": "ec0cb560-0801-4cf9-9f1b-a6a11042138f",
   "metadata": {},
   "outputs": [],
   "source": []
  }
 ],
 "metadata": {
  "kernelspec": {
   "display_name": "Python 3 (ipykernel)",
   "language": "python",
   "name": "python3"
  },
  "language_info": {
   "codemirror_mode": {
    "name": "ipython",
    "version": 3
   },
   "file_extension": ".py",
   "mimetype": "text/x-python",
   "name": "python",
   "nbconvert_exporter": "python",
   "pygments_lexer": "ipython3",
   "version": "3.11.6"
  }
 },
 "nbformat": 4,
 "nbformat_minor": 5
}
